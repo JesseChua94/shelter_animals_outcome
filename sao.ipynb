{
 "cells": [
  {
   "cell_type": "code",
   "execution_count": 69,
   "metadata": {
    "collapsed": false,
    "scrolled": true
   },
   "outputs": [
    {
     "ename": "ImportError",
     "evalue": "cannot import name 'MLPRegressor'",
     "output_type": "error",
     "traceback": [
      "\u001b[0;31m---------------------------------------------------------------------------\u001b[0m",
      "\u001b[0;31mImportError\u001b[0m                               Traceback (most recent call last)",
      "\u001b[0;32m<ipython-input-69-f3b2515f503a>\u001b[0m in \u001b[0;36m<module>\u001b[0;34m()\u001b[0m\n\u001b[1;32m      7\u001b[0m \u001b[0;32mimport\u001b[0m \u001b[0mmath\u001b[0m\u001b[0;34m\u001b[0m\u001b[0m\n\u001b[1;32m      8\u001b[0m \u001b[0;34m\u001b[0m\u001b[0m\n\u001b[0;32m----> 9\u001b[0;31m \u001b[0;32mfrom\u001b[0m \u001b[0msklearn\u001b[0m\u001b[0;34m.\u001b[0m\u001b[0mneural_network\u001b[0m \u001b[0;32mimport\u001b[0m \u001b[0mMLPRegressor\u001b[0m\u001b[0;34m\u001b[0m\u001b[0m\n\u001b[0m\u001b[1;32m     10\u001b[0m \u001b[0;34m\u001b[0m\u001b[0m\n\u001b[1;32m     11\u001b[0m \u001b[0;32mimport\u001b[0m \u001b[0mfeatures\u001b[0m \u001b[0;32mas\u001b[0m \u001b[0mfeat\u001b[0m\u001b[0;34m\u001b[0m\u001b[0m\n",
      "\u001b[0;31mImportError\u001b[0m: cannot import name 'MLPRegressor'"
     ]
    }
   ],
   "source": [
    "import pandas as pd\n",
    "import numpy as np\n",
    "import matplotlib.pyplot as plt\n",
    "import scipy as sp\n",
    "\n",
    "import random\n",
    "import math\n",
    "\n",
    "from sklearn.neural_network import MLPRegressor\n",
    "\n",
    "import features as feat\n",
    "\n",
    "df = pd.read_csv(\"train.csv\")\n",
    "\n",
    "#Create df in place with all the needed features and prepared values.\n",
    "def prepare_features(df):\n",
    "    df['SexuponOutcome'].fillna('Unknown', inplace=True)\n",
    "    df['AgeuponOutcome'].fillna(\"-1 months\", inplace=True)\n",
    "    \n",
    "    df['hasName'] = df['Name'].apply(lambda x: feat.hasName(x))\n",
    "    df['intact'] = df['SexuponOutcome'].apply(lambda x: feat.intact(x))\n",
    "    df['gender'] = df['SexuponOutcome'].apply(lambda x: feat.gender(x))\n",
    "    df['age'] = df['AgeuponOutcome'].apply(lambda x: feat.convertAgeToMonths(x))\n",
    "    df['isShihTzu'] = df['Breed'].apply(lambda x: feat.isShihTzu(x))\n",
    "    df['isAggressive'] = df['Breed'].apply(lambda x: feat.isAggressive(x))\n",
    "    df['isMix'] = df['Breed'].apply(lambda x: feat.isMix(x))\n",
    "    df['isMultiColour'] = df['Color'].apply(lambda x: feat.isMultiColour(x))\n",
    "\n",
    "    df['isToy'] = df['Breed'].apply(lambda x: feat.isToy(x))\n",
    "    df['isWorking'] = df['Breed'].apply(lambda x: feat.isWorking(x))\n",
    "    df['isSporting'] = df['Breed'].apply(lambda x: feat.isSporting(x))\n",
    "    df['isHound'] = df['Breed'].apply(lambda x: feat.isHound(x))\n",
    "    df['isNonSporting'] = df['Breed'].apply(lambda x: feat.isNonSporting(x))\n",
    "    df['isHerding'] = df['Breed'].apply(lambda x: feat.isHerding(x))\n",
    "    df['isTerrier'] = df['Breed'].apply(lambda x: feat.isTerrier(x))\n",
    "    df['isShortHair'] = df['Breed'].apply(lambda x: feat.isShortHair(x))\n",
    "    df['isMediumHair'] = df['Breed'].apply(lambda x: feat.isMediumHair(x))\n",
    "    df['isLongHair'] = df['Breed'].apply(lambda x: feat.isLongHair(x))\n",
    "    df['isTabby'] = df['Color'].apply(lambda x: feat.isTabby(x))\n",
    "    \n",
    "    df.drop(['AnimalID', \n",
    "             'DateTime', \n",
    "             'OutcomeSubtype',\n",
    "             'SexuponOutcome',\n",
    "             'AgeuponOutcome',\n",
    "             'Breed',\n",
    "             'Color',\n",
    "             'DateTime',\n",
    "             'Name'], axis=1, inplace=True)\n",
    "    \n",
    "prepare_features(df)\n",
    "\n",
    "# Selecting 40% of Training set for actual training.\n",
    "df = df.iloc[np.random.permutation(len(df))]\n",
    "df.reset_index(inplace=True, drop=True)\n",
    "split = int(len(df) * .4)\n",
    "\n",
    "xTrain = df.iloc[:split,1:]\n",
    "yTrain = df.loc[:split,'OutcomeType']\n",
    "\n",
    "xTest = df.iloc[split:,1:]\n",
    "yTest = df.loc[split:,'OutcomeType']\n",
    "\n",
    "# Train classifer.\n",
    "#xTrain = xTrain.as_matrix()\n",
    "#yTrain = np.array(yTrain)\n",
    "#nodes = (len(xTrain[0]) + len(np.unique(yTrain))) / 2\n",
    "\n",
    "#clf = MLPClassifer(algorithm='l-bfgs', \n",
    "#                   hidden_yaer_sizes=(nodes,), \n",
    "#                   activation='logistic'\n",
    "#                  )\n",
    "#clf.fit(xTrain,yTrain)\n",
    "    \n"
   ]
  },
  {
   "cell_type": "code",
   "execution_count": null,
   "metadata": {
    "collapsed": true
   },
   "outputs": [],
   "source": []
  },
  {
   "cell_type": "code",
   "execution_count": null,
   "metadata": {
    "collapsed": true
   },
   "outputs": [],
   "source": []
  }
 ],
 "metadata": {
  "kernelspec": {
   "display_name": "Python 3",
   "language": "python",
   "name": "python3"
  },
  "language_info": {
   "codemirror_mode": {
    "name": "ipython",
    "version": 3
   },
   "file_extension": ".py",
   "mimetype": "text/x-python",
   "name": "python",
   "nbconvert_exporter": "python",
   "pygments_lexer": "ipython3",
   "version": "3.5.1"
  }
 },
 "nbformat": 4,
 "nbformat_minor": 0
}
