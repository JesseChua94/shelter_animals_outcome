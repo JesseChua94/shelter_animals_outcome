{
 "cells": [
  {
   "cell_type": "code",
   "execution_count": 2,
   "metadata": {
    "collapsed": false,
    "scrolled": false
   },
   "outputs": [
    {
     "name": "stdout",
     "output_type": "stream",
     "text": [
      "             precision    recall  f1-score   support\n",
      "\n",
      "   Adoption       0.67      0.81      0.73      6428\n",
      "       Died       0.00      0.00      0.00       121\n",
      " Euthanasia       0.56      0.20      0.29       926\n",
      "Return_to_owner       0.46      0.44      0.45      2867\n",
      "   Transfer       0.75      0.68      0.71      5696\n",
      "\n",
      "avg / total       0.65      0.66      0.64     16038\n",
      "\n",
      "Accuracy: 0.657\n"
     ]
    }
   ],
   "source": [
    "import pandas as pd\n",
    "import numpy as np\n",
    "import matplotlib.pyplot as plt\n",
    "import scipy as sp\n",
    "\n",
    "import random\n",
    "import math\n",
    "\n",
    "from sklearn.ensemble import RandomForestClassifier\n",
    "from sklearn import preprocessing\n",
    "from sklearn.metrics import classification_report, accuracy_score\n",
    "\n",
    "import features as feat\n",
    "\n",
    "df = pd.read_csv(\"train.csv\")\n",
    "\n",
    "#Create df in place with all the needed features and prepared values.\n",
    "def prepare_features(df):\n",
    "    df['SexuponOutcome'].fillna('Unknown', inplace=True)\n",
    "    df['AgeuponOutcome'].fillna(\"-1 months\", inplace=True)\n",
    "    \n",
    "    df['HasName'] = df['Name'].apply(lambda x: feat.hasName(x))\n",
    "    df['NameLength'] = df['Name'].apply(lambda x: feat.getNameLength(x))\n",
    "    df['ColourLength'] = df['Color'].apply(lambda x: feat.getColourLength(x))\n",
    "    df['Intact'] = df['SexuponOutcome'].apply(lambda x: feat.intact(x))\n",
    "    df['Gender'] = df['SexuponOutcome'].apply(lambda x: feat.gender(x))\n",
    "    df['MonthsuponOutcome'] = df['AgeuponOutcome'].apply(lambda x: feat.convertAgeToMonths(x))\n",
    "    df['YearsuponOutcome'] = df['AgeuponOutcome'].apply(lambda x: feat.convertAgeToYears(x))\n",
    "    df['DaysuponOutcome'] = df['AgeuponOutcome'].apply(lambda x: feat.convertAgeToDays(x))\n",
    "    df['WeeksuponOutcome'] = df['AgeuponOutcome'].apply(lambda x: feat.convertAgeToWeeks(x))\n",
    "    df['IsYoung'] = df['MonthsuponOutcome'].apply(lambda x: feat.isYoung(x))\n",
    "    df['Season'] = df['DateTime'].apply(lambda x: feat.timeToSeason(x))\n",
    "    df['TimeofDay'] = df['DateTime'].apply(lambda x: feat.timeToHourOfDay(x))\n",
    "    df['DayofWeek'] = df['DateTime'].apply(lambda x: feat.dayOfWeek(x))\n",
    "    df['MonthofYear'] = df['DateTime'].apply(lambda x: feat.monthOfYear(x))\n",
    "    df['Year'] = df['DateTime'].apply(lambda x: feat.timeToYear(x))\n",
    "    df['IsShihTzu'] = df['Breed'].apply(lambda x: feat.isShihTzu(x))\n",
    "    df['IsAggressive'] = df['Breed'].apply(lambda x: feat.isAggressive(x))\n",
    "    df['IsMix'] = df['Breed'].apply(lambda x: feat.isMix(x))\n",
    "    df['IsMultiColour'] = df['Color'].apply(lambda x: feat.isMultiColour(x))\n",
    "\n",
    "    df['IsToy'] = df['Breed'].apply(lambda x: feat.isToy(x))\n",
    "    df['IsWorking'] = df['Breed'].apply(lambda x: feat.isWorking(x))\n",
    "    df['IsSporting'] = df['Breed'].apply(lambda x: feat.isSporting(x))\n",
    "    df['IsHound'] = df['Breed'].apply(lambda x: feat.isHound(x))\n",
    "    df['IsNonSporting'] = df['Breed'].apply(lambda x: feat.isNonSporting(x))\n",
    "    df['IsHerding'] = df['Breed'].apply(lambda x: feat.isHerding(x))\n",
    "    df['IsTerrier'] = df['Breed'].apply(lambda x: feat.isTerrier(x))\n",
    "    df['IsShortHair'] = df['Breed'].apply(lambda x: feat.isShortHair(x))\n",
    "    df['IsMediumHair'] = df['Breed'].apply(lambda x: feat.isMediumHair(x))\n",
    "    df['IsLongHair'] = df['Breed'].apply(lambda x: feat.isLongHair(x))\n",
    "    df['IsTabby'] = df['Color'].apply(lambda x: feat.isTabby(x))\n",
    "    \n",
    "    df['AnimalType'] = df['AnimalType'].apply(lambda x: feat.convertAnimalType(x))\n",
    "    \n",
    "    df.drop(['AnimalID', \n",
    "             'DateTime', \n",
    "             'OutcomeSubtype',\n",
    "             'SexuponOutcome',\n",
    "             'AgeuponOutcome',\n",
    "             'Breed',\n",
    "             'Color',\n",
    "             'DateTime',\n",
    "             'Name'], axis=1, inplace=True)\n",
    "    \n",
    "prepare_features(df)\n",
    "\n",
    "# Selecting 40% of Training set for actual training.\n",
    "df = df.iloc[np.random.permutation(len(df))]\n",
    "df.reset_index(inplace=True, drop=True)\n",
    "split = int(len(df) * .4)\n",
    "\n",
    "xTrain = df.iloc[:split + 1,1:] #iloc == [), loc == [] for ranges.\n",
    "yTrain = df.loc[:split,'OutcomeType']\n",
    "\n",
    "xTest = df.iloc[split:,1:]\n",
    "yTest = df.loc[split:,'OutcomeType']\n",
    "\n",
    "\n",
    "\n",
    "# Train classifer.\n",
    "xTrain = xTrain.as_matrix()\n",
    "yTrain = np.array(yTrain)\n",
    "nodes = (len(xTrain[0]) + len(np.unique(yTrain))) / 2\n",
    "\n",
    "clf = RandomForestClassifier(n_estimators = 100,\n",
    "                            max_features = int(math.sqrt(len(xTrain[0]))),\n",
    "                             criterion = 'entropy'\n",
    "                            )\n",
    "\n",
    "rfc = clf.fit(xTrain,yTrain)\n",
    "yPred = rfc.predict(xTest)\n",
    "print(classification_report(yTest, yPred))\n",
    "print(\"Accuracy: %1.3f\" % accuracy_score(yTest, yPred))\n"
   ]
  },
  {
   "cell_type": "code",
   "execution_count": null,
   "metadata": {
    "collapsed": true
   },
   "outputs": [],
   "source": []
  },
  {
   "cell_type": "code",
   "execution_count": null,
   "metadata": {
    "collapsed": true
   },
   "outputs": [],
   "source": []
  }
 ],
 "metadata": {
  "kernelspec": {
   "display_name": "Python 3",
   "language": "python",
   "name": "python3"
  },
  "language_info": {
   "codemirror_mode": {
    "name": "ipython",
    "version": 3
   },
   "file_extension": ".py",
   "mimetype": "text/x-python",
   "name": "python",
   "nbconvert_exporter": "python",
   "pygments_lexer": "ipython3",
   "version": "3.5.1"
  }
 },
 "nbformat": 4,
 "nbformat_minor": 0
}
